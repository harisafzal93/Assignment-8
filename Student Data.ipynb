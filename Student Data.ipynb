{
 "cells": [
  {
   "cell_type": "code",
   "execution_count": 100,
   "id": "e705efbb-73fb-4c7f-a296-e51bf80a4a02",
   "metadata": {},
   "outputs": [],
   "source": [
    "import csv"
   ]
  },
  {
   "cell_type": "code",
   "execution_count": 101,
   "id": "bff7440d-196a-4280-bde8-fc17546e9f6b",
   "metadata": {},
   "outputs": [],
   "source": [
    "open_file = open('student data.csv',mode='r')"
   ]
  },
  {
   "cell_type": "code",
   "execution_count": 102,
   "id": "ac8631c2-1af0-4442-a5b1-15842c46ece3",
   "metadata": {},
   "outputs": [],
   "source": [
    "read = csv.reader(open_file)"
   ]
  },
  {
   "cell_type": "code",
   "execution_count": 103,
   "id": "7053dad5-64eb-4edc-a176-bd9b0ad638e2",
   "metadata": {},
   "outputs": [
    {
     "data": {
      "text/plain": [
       "[['roll no', 'Name', 'Chemistry', 'Physics', 'Math'],\n",
       " ['101', 'Aliza', '50', '23', '87'],\n",
       " ['102', 'Fareed', '45', '24', '88'],\n",
       " ['103', 'Basit', '46', '25', '89'],\n",
       " ['104', 'Abdullah', '47', '26', '90'],\n",
       " ['105', 'Ali', '48', '27', '67'],\n",
       " ['106', 'Mubashir', '49', '28', '68'],\n",
       " ['107', 'Waleed', '50', '29', '69'],\n",
       " ['108', 'Mansoor', '51', '30', '70'],\n",
       " ['109', 'Zain', '52', '31', '71'],\n",
       " ['110', 'Mohsin', '53', '67', '72'],\n",
       " ['111', 'Shahmeer', '54', '68', '73'],\n",
       " ['112', 'Rao', '55', '69', '74'],\n",
       " ['113', 'Aurangzeb', '56', '70', '75'],\n",
       " ['114', 'Zeeshan', '57', '71', '76'],\n",
       " ['115', 'Hamna', '58', '72', '77'],\n",
       " ['116', 'Hamza', '59', '73', '78'],\n",
       " ['117', 'Khalid', '60', '74', '79'],\n",
       " ['118', 'Behroz', '61', '75', '80'],\n",
       " ['119', 'Justin', '62', '76', '81'],\n",
       " ['120', 'Danish', '63', '77', '82'],\n",
       " ['121', 'Kainat', '64', '78', '83'],\n",
       " ['122', 'Sameer', '65', '79', '84'],\n",
       " ['123', 'Raza', '66', '80', '85'],\n",
       " ['124', 'Kumar', '67', '81', '86'],\n",
       " ['125', 'Komal', '68', '82', '87'],\n",
       " ['126', 'Erum', '69', '83', '88'],\n",
       " ['127', 'Faiza', '70', '84', '89'],\n",
       " ['128', 'Saeed', '71', '85', '90'],\n",
       " ['129', 'Waqar', '72', '86', '91'],\n",
       " ['130', 'Wali', '73', '87', '92'],\n",
       " ['131', 'Wajid', '74', '88', '93'],\n",
       " ['132', 'Waseeb', '75', '89', '94'],\n",
       " ['133', 'Shiza', '76', '90', '95'],\n",
       " ['134', 'Shabina', '77', '91', '96'],\n",
       " ['135', 'Shazain', '78', '55', '97'],\n",
       " ['136', 'Lubna', '79', '61', '98'],\n",
       " ['137', 'Laiba', '80', '88', '78'],\n",
       " ['138', 'Khursheed', '81', '56', '45'],\n",
       " ['139', 'Ali', '82', '89', '46'],\n",
       " ['140', 'Aiza', '83', '45', '89'],\n",
       " ['141', 'Aiman', '84', '92', '78'],\n",
       " ['142', 'Yasmeen', '85', '36', '56'],\n",
       " ['143', 'Tasbeel', '86', '78', '78'],\n",
       " ['144', 'Laraib', '87', '56', '54'],\n",
       " ['145', 'Saleem', '88', '78', '78'],\n",
       " ['146', 'Bismil', '89', '89', '46'],\n",
       " ['147', 'Batool', '90', '56', '79'],\n",
       " ['148', 'Iqra', '91', '33', '46'],\n",
       " ['149', 'Zarnish', '92', '78', '45'],\n",
       " ['150', 'Zara', '83', '45', '56']]"
      ]
     },
     "execution_count": 103,
     "metadata": {},
     "output_type": "execute_result"
    }
   ],
   "source": [
    "data = list(read)\n",
    "\n",
    "data"
   ]
  },
  {
   "cell_type": "code",
   "execution_count": 104,
   "id": "2525018e-a096-4ec4-84f9-7c6a0a9a83f8",
   "metadata": {},
   "outputs": [
    {
     "data": {
      "text/plain": [
       "['roll no', 'Name', 'Chemistry', 'Physics', 'Math']"
      ]
     },
     "execution_count": 104,
     "metadata": {},
     "output_type": "execute_result"
    }
   ],
   "source": [
    "header = data[0]\n",
    "\n",
    "header"
   ]
  },
  {
   "cell_type": "code",
   "execution_count": 105,
   "id": "79e003e5-28da-41e5-a9a6-9a3db058f25b",
   "metadata": {},
   "outputs": [
    {
     "data": {
      "text/plain": [
       "[['101', 'Aliza', '50', '23', '87'],\n",
       " ['102', 'Fareed', '45', '24', '88'],\n",
       " ['103', 'Basit', '46', '25', '89'],\n",
       " ['104', 'Abdullah', '47', '26', '90'],\n",
       " ['105', 'Ali', '48', '27', '67'],\n",
       " ['106', 'Mubashir', '49', '28', '68'],\n",
       " ['107', 'Waleed', '50', '29', '69'],\n",
       " ['108', 'Mansoor', '51', '30', '70'],\n",
       " ['109', 'Zain', '52', '31', '71'],\n",
       " ['110', 'Mohsin', '53', '67', '72'],\n",
       " ['111', 'Shahmeer', '54', '68', '73'],\n",
       " ['112', 'Rao', '55', '69', '74'],\n",
       " ['113', 'Aurangzeb', '56', '70', '75'],\n",
       " ['114', 'Zeeshan', '57', '71', '76'],\n",
       " ['115', 'Hamna', '58', '72', '77'],\n",
       " ['116', 'Hamza', '59', '73', '78'],\n",
       " ['117', 'Khalid', '60', '74', '79'],\n",
       " ['118', 'Behroz', '61', '75', '80'],\n",
       " ['119', 'Justin', '62', '76', '81'],\n",
       " ['120', 'Danish', '63', '77', '82'],\n",
       " ['121', 'Kainat', '64', '78', '83'],\n",
       " ['122', 'Sameer', '65', '79', '84'],\n",
       " ['123', 'Raza', '66', '80', '85'],\n",
       " ['124', 'Kumar', '67', '81', '86'],\n",
       " ['125', 'Komal', '68', '82', '87'],\n",
       " ['126', 'Erum', '69', '83', '88'],\n",
       " ['127', 'Faiza', '70', '84', '89'],\n",
       " ['128', 'Saeed', '71', '85', '90'],\n",
       " ['129', 'Waqar', '72', '86', '91'],\n",
       " ['130', 'Wali', '73', '87', '92'],\n",
       " ['131', 'Wajid', '74', '88', '93'],\n",
       " ['132', 'Waseeb', '75', '89', '94'],\n",
       " ['133', 'Shiza', '76', '90', '95'],\n",
       " ['134', 'Shabina', '77', '91', '96'],\n",
       " ['135', 'Shazain', '78', '55', '97'],\n",
       " ['136', 'Lubna', '79', '61', '98'],\n",
       " ['137', 'Laiba', '80', '88', '78'],\n",
       " ['138', 'Khursheed', '81', '56', '45'],\n",
       " ['139', 'Ali', '82', '89', '46'],\n",
       " ['140', 'Aiza', '83', '45', '89'],\n",
       " ['141', 'Aiman', '84', '92', '78'],\n",
       " ['142', 'Yasmeen', '85', '36', '56'],\n",
       " ['143', 'Tasbeel', '86', '78', '78'],\n",
       " ['144', 'Laraib', '87', '56', '54'],\n",
       " ['145', 'Saleem', '88', '78', '78'],\n",
       " ['146', 'Bismil', '89', '89', '46'],\n",
       " ['147', 'Batool', '90', '56', '79'],\n",
       " ['148', 'Iqra', '91', '33', '46'],\n",
       " ['149', 'Zarnish', '92', '78', '45'],\n",
       " ['150', 'Zara', '83', '45', '56']]"
      ]
     },
     "execution_count": 105,
     "metadata": {},
     "output_type": "execute_result"
    }
   ],
   "source": [
    "student_data = data[1:]\n",
    "\n",
    "student_data"
   ]
  },
  {
   "cell_type": "code",
   "execution_count": 106,
   "id": "ba1e1ddc-ae76-4f56-b4f9-fbdaf33b67e2",
   "metadata": {},
   "outputs": [
    {
     "data": {
      "text/plain": [
       "[50.0,\n",
       " 45.0,\n",
       " 46.0,\n",
       " 47.0,\n",
       " 48.0,\n",
       " 49.0,\n",
       " 50.0,\n",
       " 51.0,\n",
       " 52.0,\n",
       " 53.0,\n",
       " 54.0,\n",
       " 55.0,\n",
       " 56.0,\n",
       " 57.0,\n",
       " 58.0,\n",
       " 59.0,\n",
       " 60.0,\n",
       " 61.0,\n",
       " 62.0,\n",
       " 63.0,\n",
       " 64.0,\n",
       " 65.0,\n",
       " 66.0,\n",
       " 67.0,\n",
       " 68.0,\n",
       " 69.0,\n",
       " 70.0,\n",
       " 71.0,\n",
       " 72.0,\n",
       " 73.0,\n",
       " 74.0,\n",
       " 75.0,\n",
       " 76.0,\n",
       " 77.0,\n",
       " 78.0,\n",
       " 79.0,\n",
       " 80.0,\n",
       " 81.0,\n",
       " 82.0,\n",
       " 83.0,\n",
       " 84.0,\n",
       " 85.0,\n",
       " 86.0,\n",
       " 87.0,\n",
       " 88.0,\n",
       " 89.0,\n",
       " 90.0,\n",
       " 91.0,\n",
       " 92.0,\n",
       " 83.0]"
      ]
     },
     "execution_count": 106,
     "metadata": {},
     "output_type": "execute_result"
    }
   ],
   "source": [
    "chem_marks = [float(i[2]) for i in student_data]\n",
    "\n",
    "chem_marks"
   ]
  },
  {
   "cell_type": "code",
   "execution_count": 107,
   "id": "afd9a319-e938-451d-84ee-24e62f2a5a5e",
   "metadata": {},
   "outputs": [
    {
     "data": {
      "text/plain": [
       "3421.0"
      ]
     },
     "execution_count": 107,
     "metadata": {},
     "output_type": "execute_result"
    }
   ],
   "source": [
    "sum(chem_marks)"
   ]
  },
  {
   "cell_type": "code",
   "execution_count": 108,
   "id": "5d40e21a-413d-4fa6-a66b-467bbe969d90",
   "metadata": {},
   "outputs": [
    {
     "data": {
      "text/plain": [
       "50"
      ]
     },
     "execution_count": 108,
     "metadata": {},
     "output_type": "execute_result"
    }
   ],
   "source": [
    "len(chem_marks)"
   ]
  },
  {
   "cell_type": "code",
   "execution_count": 109,
   "id": "6504d768-9fb5-47c6-b7c2-e9cdb30f24b4",
   "metadata": {},
   "outputs": [
    {
     "data": {
      "text/plain": [
       "68.42"
      ]
     },
     "execution_count": 109,
     "metadata": {},
     "output_type": "execute_result"
    }
   ],
   "source": [
    "Avg_chem_marks = sum(chem_marks)/len(chem_marks)\n",
    "\n",
    "Avg_chem_marks"
   ]
  },
  {
   "cell_type": "code",
   "execution_count": 110,
   "id": "ad87526f-4514-4ccc-9b93-82cc9e385a7e",
   "metadata": {},
   "outputs": [
    {
     "data": {
      "text/plain": [
       "[23.0,\n",
       " 24.0,\n",
       " 25.0,\n",
       " 26.0,\n",
       " 27.0,\n",
       " 28.0,\n",
       " 29.0,\n",
       " 30.0,\n",
       " 31.0,\n",
       " 67.0,\n",
       " 68.0,\n",
       " 69.0,\n",
       " 70.0,\n",
       " 71.0,\n",
       " 72.0,\n",
       " 73.0,\n",
       " 74.0,\n",
       " 75.0,\n",
       " 76.0,\n",
       " 77.0,\n",
       " 78.0,\n",
       " 79.0,\n",
       " 80.0,\n",
       " 81.0,\n",
       " 82.0,\n",
       " 83.0,\n",
       " 84.0,\n",
       " 85.0,\n",
       " 86.0,\n",
       " 87.0,\n",
       " 88.0,\n",
       " 89.0,\n",
       " 90.0,\n",
       " 91.0,\n",
       " 55.0,\n",
       " 61.0,\n",
       " 88.0,\n",
       " 56.0,\n",
       " 89.0,\n",
       " 45.0,\n",
       " 92.0,\n",
       " 36.0,\n",
       " 78.0,\n",
       " 56.0,\n",
       " 78.0,\n",
       " 89.0,\n",
       " 56.0,\n",
       " 33.0,\n",
       " 78.0,\n",
       " 45.0]"
      ]
     },
     "execution_count": 110,
     "metadata": {},
     "output_type": "execute_result"
    }
   ],
   "source": [
    "phy_marks = [float(i[3]) for i in student_data]\n",
    "\n",
    "phy_marks"
   ]
  },
  {
   "cell_type": "code",
   "execution_count": 111,
   "id": "e971a6ef-f9f4-4481-9978-2b3fa1309cbe",
   "metadata": {},
   "outputs": [
    {
     "data": {
      "text/plain": [
       "3253.0"
      ]
     },
     "execution_count": 111,
     "metadata": {},
     "output_type": "execute_result"
    }
   ],
   "source": [
    "sum(phy_marks)"
   ]
  },
  {
   "cell_type": "code",
   "execution_count": 112,
   "id": "bc784f05-ab6e-4165-988c-943921948543",
   "metadata": {},
   "outputs": [
    {
     "data": {
      "text/plain": [
       "50"
      ]
     },
     "execution_count": 112,
     "metadata": {},
     "output_type": "execute_result"
    }
   ],
   "source": [
    "len(phy_marks)"
   ]
  },
  {
   "cell_type": "code",
   "execution_count": 113,
   "id": "99b9ef16-df32-4aef-ad33-971d3eacc1ab",
   "metadata": {},
   "outputs": [
    {
     "data": {
      "text/plain": [
       "65.06"
      ]
     },
     "execution_count": 113,
     "metadata": {},
     "output_type": "execute_result"
    }
   ],
   "source": [
    "Avg_phy_marks = sum(phy_marks)/len(phy_marks)\n",
    "\n",
    "Avg_phy_marks"
   ]
  },
  {
   "cell_type": "code",
   "execution_count": 114,
   "id": "bd8aa8b5-7def-433d-881d-eeee69b25854",
   "metadata": {},
   "outputs": [
    {
     "data": {
      "text/plain": [
       "[87.0,\n",
       " 88.0,\n",
       " 89.0,\n",
       " 90.0,\n",
       " 67.0,\n",
       " 68.0,\n",
       " 69.0,\n",
       " 70.0,\n",
       " 71.0,\n",
       " 72.0,\n",
       " 73.0,\n",
       " 74.0,\n",
       " 75.0,\n",
       " 76.0,\n",
       " 77.0,\n",
       " 78.0,\n",
       " 79.0,\n",
       " 80.0,\n",
       " 81.0,\n",
       " 82.0,\n",
       " 83.0,\n",
       " 84.0,\n",
       " 85.0,\n",
       " 86.0,\n",
       " 87.0,\n",
       " 88.0,\n",
       " 89.0,\n",
       " 90.0,\n",
       " 91.0,\n",
       " 92.0,\n",
       " 93.0,\n",
       " 94.0,\n",
       " 95.0,\n",
       " 96.0,\n",
       " 97.0,\n",
       " 98.0,\n",
       " 78.0,\n",
       " 45.0,\n",
       " 46.0,\n",
       " 89.0,\n",
       " 78.0,\n",
       " 56.0,\n",
       " 78.0,\n",
       " 54.0,\n",
       " 78.0,\n",
       " 46.0,\n",
       " 79.0,\n",
       " 46.0,\n",
       " 45.0,\n",
       " 56.0]"
      ]
     },
     "execution_count": 114,
     "metadata": {},
     "output_type": "execute_result"
    }
   ],
   "source": [
    "math_marks = [float(i[4]) for i in student_data]\n",
    "\n",
    "math_marks"
   ]
  },
  {
   "cell_type": "code",
   "execution_count": 115,
   "id": "05a31ff0-b624-4806-9ed7-939db18b3128",
   "metadata": {},
   "outputs": [
    {
     "data": {
      "text/plain": [
       "3868.0"
      ]
     },
     "execution_count": 115,
     "metadata": {},
     "output_type": "execute_result"
    }
   ],
   "source": [
    "sum(math_marks)"
   ]
  },
  {
   "cell_type": "code",
   "execution_count": 116,
   "id": "9bcda6b8-fd8c-4d24-b9f3-570de4b7ff01",
   "metadata": {},
   "outputs": [
    {
     "data": {
      "text/plain": [
       "50"
      ]
     },
     "execution_count": 116,
     "metadata": {},
     "output_type": "execute_result"
    }
   ],
   "source": [
    "len(math_marks)"
   ]
  },
  {
   "cell_type": "code",
   "execution_count": 117,
   "id": "a3be647a-e301-427f-986e-be7df13973e6",
   "metadata": {},
   "outputs": [
    {
     "data": {
      "text/plain": [
       "77.36"
      ]
     },
     "execution_count": 117,
     "metadata": {},
     "output_type": "execute_result"
    }
   ],
   "source": [
    "Avg_math_marks = sum(math_marks)/len(math_marks)\n",
    "\n",
    "Avg_math_marks"
   ]
  },
  {
   "cell_type": "code",
   "execution_count": 118,
   "id": "632ecb2a-b16d-4ce5-b656-1ee71d76af95",
   "metadata": {},
   "outputs": [],
   "source": [
    "for per in student_data:\n",
    "    chem = int(per[2])\n",
    "    phy = int(per[3])\n",
    "    math = int(per[4])\n",
    "\n",
    "    percentage = round((chem+phy+math)/300*100, 1)\n",
    "    per.append(percentage)"
   ]
  },
  {
   "cell_type": "code",
   "execution_count": 119,
   "id": "e9d2ab5d-065c-4848-87a5-7e939465b104",
   "metadata": {},
   "outputs": [
    {
     "data": {
      "text/plain": [
       "['150', 'Zara', '83', '45', '56', 61.3]"
      ]
     },
     "execution_count": 119,
     "metadata": {},
     "output_type": "execute_result"
    }
   ],
   "source": [
    "per"
   ]
  },
  {
   "cell_type": "code",
   "execution_count": 120,
   "id": "2cf3b3b5-3318-40b2-a43d-99d7f3075fc1",
   "metadata": {},
   "outputs": [
    {
     "data": {
      "text/plain": [
       "[['101', 'Aliza', '50', '23', '87', 53.3],\n",
       " ['102', 'Fareed', '45', '24', '88', 52.3],\n",
       " ['103', 'Basit', '46', '25', '89', 53.3],\n",
       " ['104', 'Abdullah', '47', '26', '90', 54.3],\n",
       " ['105', 'Ali', '48', '27', '67', 47.3],\n",
       " ['106', 'Mubashir', '49', '28', '68', 48.3],\n",
       " ['107', 'Waleed', '50', '29', '69', 49.3],\n",
       " ['108', 'Mansoor', '51', '30', '70', 50.3],\n",
       " ['109', 'Zain', '52', '31', '71', 51.3],\n",
       " ['110', 'Mohsin', '53', '67', '72', 64.0],\n",
       " ['111', 'Shahmeer', '54', '68', '73', 65.0],\n",
       " ['112', 'Rao', '55', '69', '74', 66.0],\n",
       " ['113', 'Aurangzeb', '56', '70', '75', 67.0],\n",
       " ['114', 'Zeeshan', '57', '71', '76', 68.0],\n",
       " ['115', 'Hamna', '58', '72', '77', 69.0],\n",
       " ['116', 'Hamza', '59', '73', '78', 70.0],\n",
       " ['117', 'Khalid', '60', '74', '79', 71.0],\n",
       " ['118', 'Behroz', '61', '75', '80', 72.0],\n",
       " ['119', 'Justin', '62', '76', '81', 73.0],\n",
       " ['120', 'Danish', '63', '77', '82', 74.0],\n",
       " ['121', 'Kainat', '64', '78', '83', 75.0],\n",
       " ['122', 'Sameer', '65', '79', '84', 76.0],\n",
       " ['123', 'Raza', '66', '80', '85', 77.0],\n",
       " ['124', 'Kumar', '67', '81', '86', 78.0],\n",
       " ['125', 'Komal', '68', '82', '87', 79.0],\n",
       " ['126', 'Erum', '69', '83', '88', 80.0],\n",
       " ['127', 'Faiza', '70', '84', '89', 81.0],\n",
       " ['128', 'Saeed', '71', '85', '90', 82.0],\n",
       " ['129', 'Waqar', '72', '86', '91', 83.0],\n",
       " ['130', 'Wali', '73', '87', '92', 84.0],\n",
       " ['131', 'Wajid', '74', '88', '93', 85.0],\n",
       " ['132', 'Waseeb', '75', '89', '94', 86.0],\n",
       " ['133', 'Shiza', '76', '90', '95', 87.0],\n",
       " ['134', 'Shabina', '77', '91', '96', 88.0],\n",
       " ['135', 'Shazain', '78', '55', '97', 76.7],\n",
       " ['136', 'Lubna', '79', '61', '98', 79.3],\n",
       " ['137', 'Laiba', '80', '88', '78', 82.0],\n",
       " ['138', 'Khursheed', '81', '56', '45', 60.7],\n",
       " ['139', 'Ali', '82', '89', '46', 72.3],\n",
       " ['140', 'Aiza', '83', '45', '89', 72.3],\n",
       " ['141', 'Aiman', '84', '92', '78', 84.7],\n",
       " ['142', 'Yasmeen', '85', '36', '56', 59.0],\n",
       " ['143', 'Tasbeel', '86', '78', '78', 80.7],\n",
       " ['144', 'Laraib', '87', '56', '54', 65.7],\n",
       " ['145', 'Saleem', '88', '78', '78', 81.3],\n",
       " ['146', 'Bismil', '89', '89', '46', 74.7],\n",
       " ['147', 'Batool', '90', '56', '79', 75.0],\n",
       " ['148', 'Iqra', '91', '33', '46', 56.7],\n",
       " ['149', 'Zarnish', '92', '78', '45', 71.7],\n",
       " ['150', 'Zara', '83', '45', '56', 61.3]]"
      ]
     },
     "execution_count": 120,
     "metadata": {},
     "output_type": "execute_result"
    }
   ],
   "source": [
    "student_data"
   ]
  },
  {
   "cell_type": "code",
   "execution_count": 143,
   "id": "6915359c-06fa-4417-bbe2-00c022f7f76c",
   "metadata": {},
   "outputs": [],
   "source": [
    "data[0].append('Percentage')"
   ]
  },
  {
   "cell_type": "code",
   "execution_count": 145,
   "id": "84e34c87-4ce1-4b0a-b85a-89d188ef8c47",
   "metadata": {},
   "outputs": [
    {
     "data": {
      "text/plain": [
       "[['roll no', 'Name', 'Chemistry', 'Physics', 'Math', 'Percentage'],\n",
       " ['101', 'Aliza', '50', '23', '87', 53.3],\n",
       " ['102', 'Fareed', '45', '24', '88', 52.3],\n",
       " ['103', 'Basit', '46', '25', '89', 53.3],\n",
       " ['104', 'Abdullah', '47', '26', '90', 54.3],\n",
       " ['105', 'Ali', '48', '27', '67', 47.3],\n",
       " ['106', 'Mubashir', '49', '28', '68', 48.3],\n",
       " ['107', 'Waleed', '50', '29', '69', 49.3],\n",
       " ['108', 'Mansoor', '51', '30', '70', 50.3],\n",
       " ['109', 'Zain', '52', '31', '71', 51.3],\n",
       " ['110', 'Mohsin', '53', '67', '72', 64.0],\n",
       " ['111', 'Shahmeer', '54', '68', '73', 65.0],\n",
       " ['112', 'Rao', '55', '69', '74', 66.0],\n",
       " ['113', 'Aurangzeb', '56', '70', '75', 67.0],\n",
       " ['114', 'Zeeshan', '57', '71', '76', 68.0],\n",
       " ['115', 'Hamna', '58', '72', '77', 69.0],\n",
       " ['116', 'Hamza', '59', '73', '78', 70.0],\n",
       " ['117', 'Khalid', '60', '74', '79', 71.0],\n",
       " ['118', 'Behroz', '61', '75', '80', 72.0],\n",
       " ['119', 'Justin', '62', '76', '81', 73.0],\n",
       " ['120', 'Danish', '63', '77', '82', 74.0],\n",
       " ['121', 'Kainat', '64', '78', '83', 75.0],\n",
       " ['122', 'Sameer', '65', '79', '84', 76.0],\n",
       " ['123', 'Raza', '66', '80', '85', 77.0],\n",
       " ['124', 'Kumar', '67', '81', '86', 78.0],\n",
       " ['125', 'Komal', '68', '82', '87', 79.0],\n",
       " ['126', 'Erum', '69', '83', '88', 80.0],\n",
       " ['127', 'Faiza', '70', '84', '89', 81.0],\n",
       " ['128', 'Saeed', '71', '85', '90', 82.0],\n",
       " ['129', 'Waqar', '72', '86', '91', 83.0],\n",
       " ['130', 'Wali', '73', '87', '92', 84.0],\n",
       " ['131', 'Wajid', '74', '88', '93', 85.0],\n",
       " ['132', 'Waseeb', '75', '89', '94', 86.0],\n",
       " ['133', 'Shiza', '76', '90', '95', 87.0],\n",
       " ['134', 'Shabina', '77', '91', '96', 88.0],\n",
       " ['135', 'Shazain', '78', '55', '97', 76.7],\n",
       " ['136', 'Lubna', '79', '61', '98', 79.3],\n",
       " ['137', 'Laiba', '80', '88', '78', 82.0],\n",
       " ['138', 'Khursheed', '81', '56', '45', 60.7],\n",
       " ['139', 'Ali', '82', '89', '46', 72.3],\n",
       " ['140', 'Aiza', '83', '45', '89', 72.3],\n",
       " ['141', 'Aiman', '84', '92', '78', 84.7],\n",
       " ['142', 'Yasmeen', '85', '36', '56', 59.0],\n",
       " ['143', 'Tasbeel', '86', '78', '78', 80.7],\n",
       " ['144', 'Laraib', '87', '56', '54', 65.7],\n",
       " ['145', 'Saleem', '88', '78', '78', 81.3],\n",
       " ['146', 'Bismil', '89', '89', '46', 74.7],\n",
       " ['147', 'Batool', '90', '56', '79', 75.0],\n",
       " ['148', 'Iqra', '91', '33', '46', 56.7],\n",
       " ['149', 'Zarnish', '92', '78', '45', 71.7],\n",
       " ['150', 'Zara', '83', '45', '56', 61.3]]"
      ]
     },
     "execution_count": 145,
     "metadata": {},
     "output_type": "execute_result"
    }
   ],
   "source": [
    "data"
   ]
  },
  {
   "cell_type": "code",
   "execution_count": 149,
   "id": "8caa9c29-c20a-4fd3-9453-314756ec06fd",
   "metadata": {},
   "outputs": [
    {
     "data": {
      "text/plain": [
       "<_io.TextIOWrapper name='Updated Student Data.csv' mode='w' encoding='cp1252'>"
      ]
     },
     "execution_count": 149,
     "metadata": {},
     "output_type": "execute_result"
    }
   ],
   "source": [
    "open_file = open(\"Updated Student Data.csv\", mode='w', newline='')\n",
    "\n",
    "open_file"
   ]
  },
  {
   "cell_type": "code",
   "execution_count": 151,
   "id": "e0feb8c8-1c39-47cc-b4db-2c30fc4b048f",
   "metadata": {},
   "outputs": [
    {
     "data": {
      "text/plain": [
       "<_csv.writer at 0x1b25992f520>"
      ]
     },
     "execution_count": 151,
     "metadata": {},
     "output_type": "execute_result"
    }
   ],
   "source": [
    "writer = csv.writer(open_file)\n",
    "\n",
    "writer"
   ]
  },
  {
   "cell_type": "code",
   "execution_count": 153,
   "id": "e2878666-2457-4df4-bfcd-cc594ac5ee05",
   "metadata": {},
   "outputs": [],
   "source": [
    "writer.writerows(data)"
   ]
  },
  {
   "cell_type": "code",
   "execution_count": 155,
   "id": "1ca26b24-6f65-472e-85af-f1d94cb18bb6",
   "metadata": {},
   "outputs": [],
   "source": [
    "open_file.close()"
   ]
  },
  {
   "cell_type": "code",
   "execution_count": null,
   "id": "1211a8bf-2459-40e3-a098-b40a70240196",
   "metadata": {},
   "outputs": [],
   "source": []
  }
 ],
 "metadata": {
  "kernelspec": {
   "display_name": "Python 3 (ipykernel)",
   "language": "python",
   "name": "python3"
  },
  "language_info": {
   "codemirror_mode": {
    "name": "ipython",
    "version": 3
   },
   "file_extension": ".py",
   "mimetype": "text/x-python",
   "name": "python",
   "nbconvert_exporter": "python",
   "pygments_lexer": "ipython3",
   "version": "3.12.4"
  }
 },
 "nbformat": 4,
 "nbformat_minor": 5
}
